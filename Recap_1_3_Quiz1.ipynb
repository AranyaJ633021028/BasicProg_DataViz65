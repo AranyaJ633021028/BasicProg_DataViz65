{
  "nbformat": 4,
  "nbformat_minor": 0,
  "metadata": {
    "colab": {
      "name": "Recap 1-3 Quiz1.ipynb",
      "provenance": [],
      "authorship_tag": "ABX9TyN/nGSF0D86ila5dVfEtvFK",
      "include_colab_link": true
    },
    "kernelspec": {
      "name": "python3",
      "display_name": "Python 3"
    },
    "language_info": {
      "name": "python"
    }
  },
  "cells": [
    {
      "cell_type": "markdown",
      "metadata": {
        "id": "view-in-github",
        "colab_type": "text"
      },
      "source": [
        "<a href=\"https://colab.research.google.com/github/AranyaJ633021028/BasicProg_DataViz65/blob/main/Recap_1_3_Quiz1.ipynb\" target=\"_parent\"><img src=\"https://colab.research.google.com/assets/colab-badge.svg\" alt=\"Open In Colab\"/></a>"
      ]
    },
    {
      "cell_type": "code",
      "execution_count": null,
      "metadata": {
        "id": "9CqOeQO4Od8h"
      },
      "outputs": [],
      "source": [
        "Quiz 1\n",
        "คำนวณเวลาเป็นความต่างของเวลาเป็นวินาทีของช่วงเวลาต่อไปนี้โดยใช้คำสั่ง split() ช่วย และ print ออกมาให้สวยงาม\n",
        "09:11:50 - 12:30:15\n",
        "13:41:07 - 20:00:18\n",
        "21:30:15 - 00:00:00\n",
        "00:00:00 - 23:59:59"
      ]
    },
    {
      "cell_type": "code",
      "source": [
        "b1 = '09:11:50'\n",
        "b1_sp = b1.split(':')\n",
        "print(b1_sp)\n",
        "work1 = int(b1_sp[0])*3600+int (b1_sp[1])*60+int (b1_sp[2])\n",
        "b2='12:30:15'\n",
        "b2_sp = b2.split(':')\n",
        "print(b2_sp)\n",
        "work2 = int(b2_sp[0])*3600+int (b2_sp[1])*60+int (b2_sp[2])\n",
        "print(f'{b1} - {b2} แปลงเป็นความต่างของเวลาเป็นวินาทีได้ {work2-work1} วินาที')"
      ],
      "metadata": {
        "colab": {
          "base_uri": "https://localhost:8080/"
        },
        "id": "lctXaOXrO3hL",
        "outputId": "d3014c89-d699-4620-e381-4f5e1fc11061"
      },
      "execution_count": 4,
      "outputs": [
        {
          "output_type": "stream",
          "name": "stdout",
          "text": [
            "['09', '11', '50']\n",
            "['12', '30', '15']\n",
            "09:11:50 - 12:30:15 แปลงเป็นความต่างของเวลาเป็นวินาทีได้ 11905 วินาที\n"
          ]
        }
      ]
    },
    {
      "cell_type": "code",
      "source": [
        "c1='13:41:07'\n",
        "c1_sp=b1.split(':')\n",
        "print(c1_sp)\n",
        "ans1=int(c1_sp[0])*3600+int (c1_sp[1])*60+int (c1_sp[2])\n",
        "c2='20:00:18'\n",
        "c2_sp=c2.split(':')\n",
        "print(c2_sp)\n",
        "ans2=int(c2_sp[0])*3600+int (c2_sp[1])*60+int (c2_sp[2])\n",
        "print(f'ความต่างของเวลา {c1} และ {c2} เป็นวินาที เท่ากับ {ans2-ans1} วินาที' )"
      ],
      "metadata": {
        "colab": {
          "base_uri": "https://localhost:8080/"
        },
        "id": "fds-NWBLTEvz",
        "outputId": "454d8d9a-4bc2-455b-9b30-2de69dc2d62b"
      },
      "execution_count": 5,
      "outputs": [
        {
          "output_type": "stream",
          "name": "stdout",
          "text": [
            "['09', '11', '50']\n",
            "['20', '00', '18']\n",
            "ความต่างของเวลา 13:41:07 และ 20:00:18 เป็นวินาที เท่ากับ 38908 วินาที\n"
          ]
        }
      ]
    },
    {
      "cell_type": "code",
      "source": [
        "d1='21:30:15'\n",
        "d1_sp=d1.split(':')\n",
        "print(d1_sp)\n",
        "ans1=int(d1_sp[0])*3600+int (d1_sp[1])*60+int (d1_sp[2])\n",
        "d2='24:00:00'\n",
        "d2_sp=d2.split(':')\n",
        "print(d2_sp)\n",
        "ans2=int(d2_sp[0])*3600+int (d2_sp[1])*60+int (d2_sp[2])\n",
        "print(f'ความต่างของเวลา {d1} และ {d2} เป็นวินาที เท่ากับ {ans2-ans1} วินาที' )"
      ],
      "metadata": {
        "colab": {
          "base_uri": "https://localhost:8080/"
        },
        "id": "4Gu8HXQ6VWUd",
        "outputId": "613825e4-e9eb-4603-d64b-b0acd7417230"
      },
      "execution_count": 6,
      "outputs": [
        {
          "output_type": "stream",
          "name": "stdout",
          "text": [
            "['21', '30', '15']\n",
            "['24', '00', '00']\n",
            "ความต่างของเวลา 21:30:15 และ 24:00:00 เป็นวินาที เท่ากับ 8985 วินาที\n"
          ]
        }
      ]
    },
    {
      "cell_type": "code",
      "source": [
        "e1='00:00:00'\n",
        "e1_sp=e1.split(':')\n",
        "print(e1_sp)\n",
        "ans1=int(e1_sp[0])*3600+int (e1_sp[1])*60+int (e1_sp[2])\n",
        "e2='23:59:59'\n",
        "e2_sp=e2.split(':')\n",
        "print(e2_sp)\n",
        "ans2=int(e2_sp[0])*3600+int (e2_sp[1])*60+int (e2_sp[2])\n",
        "print(f'ความต่างของเวลา {e1} และ {e2} เป็นวินาที เท่ากับ {ans2-ans1} วินาที' )"
      ],
      "metadata": {
        "colab": {
          "base_uri": "https://localhost:8080/"
        },
        "id": "jqZ1ney6Vu0j",
        "outputId": "67519781-89c4-4356-a2e4-26cf10ad5092"
      },
      "execution_count": 7,
      "outputs": [
        {
          "output_type": "stream",
          "name": "stdout",
          "text": [
            "['00', '00', '00']\n",
            "['23', '59', '59']\n",
            "ความต่างของเวลา 00:00:00 และ 23:59:59 เป็นวินาที เท่ากับ 86399 วินาที\n"
          ]
        }
      ]
    }
  ]
}